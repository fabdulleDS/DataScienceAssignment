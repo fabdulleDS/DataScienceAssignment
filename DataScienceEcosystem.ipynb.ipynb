{
 "cells": [
  {
   "cell_type": "markdown",
   "id": "72874dc1-55e7-4ec3-827f-c74b44de0792",
   "metadata": {},
   "source": [
    "# Data Science Tools and Ecosystem"
   ]
  },
  {
   "cell_type": "markdown",
   "id": "36a047be-abac-490d-a49b-2c0f30022527",
   "metadata": {},
   "source": [
    "In this notebook, Data Science Tools and Ecosystem are summarized."
   ]
  },
  {
   "cell_type": "markdown",
   "id": "66fcf84e-304a-4428-85a3-0ec7761e75fa",
   "metadata": {},
   "source": [
    "**Objectives**\n",
    "- List popular languages for data scientists\n",
    "- Name some commonly used libraries for data scientists\n",
    "- Show some examples of arithmetic expressions"
   ]
  },
  {
   "cell_type": "markdown",
   "id": "4ce30066-61dd-444e-97ce-7fd286cca99e",
   "metadata": {},
   "source": [
    "Some of the popular languages that Data Scientists use are:\n",
    "1. Python\n",
    "2. SQL\n",
    "3. R\n",
    "4. Julia\n"
   ]
  },
  {
   "cell_type": "markdown",
   "id": "f8d6d729-f737-4a47-a5bd-301cae1f0baa",
   "metadata": {},
   "source": [
    "Some of the commonly used libraries used by Data Scientists include:\n",
    "1. NumPy\n",
    "2. Keras\n",
    "3. PyTorch\n",
    "4. SciPy"
   ]
  },
  {
   "cell_type": "markdown",
   "id": "967a10de-a504-4424-a965-478fed4616c5",
   "metadata": {},
   "source": [
    "| Data Science Tools |\n",
    "|:------------------:|\n",
    "| Apache AirFlow |\n",
    "| Kibana |\n",
    "| MySQL |"
   ]
  },
  {
   "cell_type": "markdown",
   "id": "c504bd9a-ee5e-441d-98e8-d59dec429cf1",
   "metadata": {
    "tags": []
   },
   "source": [
    "### Below are a few examples of evaluating arithmetic expressions in Python:"
   ]
  },
  {
   "cell_type": "code",
   "execution_count": 3,
   "id": "78ecf3ef-7ea4-4cb0-bd99-fc7c0442b010",
   "metadata": {
    "tags": []
   },
   "outputs": [
    {
     "data": {
      "text/plain": [
       "17"
      ]
     },
     "execution_count": 3,
     "metadata": {},
     "output_type": "execute_result"
    }
   ],
   "source": [
    "(3*4)+5"
   ]
  },
  {
   "cell_type": "code",
   "execution_count": 10,
   "id": "295c1f9f-d0fa-4111-b661-12a350a7aa8c",
   "metadata": {
    "tags": []
   },
   "outputs": [],
   "source": [
    "# This will convert 200 minutes to hours by diving by 60"
   ]
  },
  {
   "cell_type": "code",
   "execution_count": 17,
   "id": "467144fb-fe5d-44d1-be0c-c174e758ee11",
   "metadata": {
    "tags": []
   },
   "outputs": [],
   "source": [
    "x = 200\n",
    "y = x/60"
   ]
  },
  {
   "cell_type": "code",
   "execution_count": 18,
   "id": "903ac188-4dd6-4fcd-9ba8-9a1ecb900666",
   "metadata": {
    "tags": []
   },
   "outputs": [
    {
     "data": {
      "text/plain": [
       "3.3333333333333335"
      ]
     },
     "execution_count": 18,
     "metadata": {},
     "output_type": "execute_result"
    }
   ],
   "source": [
    "y"
   ]
  },
  {
   "cell_type": "markdown",
   "id": "2ac05699-fafe-4c99-b0c0-d1583995d9b0",
   "metadata": {},
   "source": [
    "## Author\n",
    "Fardowsa Abdulle"
   ]
  },
  {
   "cell_type": "code",
   "execution_count": null,
   "id": "e766c60d-3053-4209-b3fa-5247e183b7cf",
   "metadata": {},
   "outputs": [],
   "source": []
  }
 ],
 "metadata": {
  "kernelspec": {
   "display_name": "Python",
   "language": "python",
   "name": "conda-env-python-py"
  },
  "language_info": {
   "codemirror_mode": {
    "name": "ipython",
    "version": 3
   },
   "file_extension": ".py",
   "mimetype": "text/x-python",
   "name": "python",
   "nbconvert_exporter": "python",
   "pygments_lexer": "ipython3",
   "version": "3.7.12"
  }
 },
 "nbformat": 4,
 "nbformat_minor": 5
}
